{
 "cells": [
  {
   "cell_type": "code",
   "execution_count": null,
   "id": "59f29b32-9af7-419c-a76b-aaf7317d9750",
   "metadata": {},
   "outputs": [],
   "source": [
    "'''clear(): Empty the dictionary.\n",
    "   1)copy(): Make a copy of the dictionary.\n",
    "  2)fromkeys(): Create a dictionary with specified keys and default values.\n",
    "  3) get(): Retrieve a value for a given key.\n",
    "  4)items(): Get all key-value pairs.\n",
    "  5)keys(): Get all keys.\n",
    "  6)pop(): Remove and return a value for a given key.\n",
    "  7)popitem(): Remove and return the last key-value pair.\n",
    "  8)setdefault(): Get a value or set a default value for a key.\n",
    "  9)update(): Add or update key-value pairs from another dictionary.\n",
    "  10)values(): Get all values.'''\n"
   ]
  },
  {
   "cell_type": "code",
   "execution_count": 14,
   "id": "480232c1-2288-47c7-841f-336f69748f4c",
   "metadata": {},
   "outputs": [
    {
     "data": {
      "text/plain": [
       "{'name': 'ram', 'age': 12, 'clas': 10, 'sec': 'b sec'}"
      ]
     },
     "execution_count": 14,
     "metadata": {},
     "output_type": "execute_result"
    }
   ],
   "source": [
    "dict={\"name\":\"ram\",\"age\":12,\"clas\":10,\"sec\":\"b sec\"}\n",
    "dict"
   ]
  },
  {
   "cell_type": "code",
   "execution_count": 15,
   "id": "99a640ad-e2d5-4a77-8b25-4f5ea941471c",
   "metadata": {},
   "outputs": [
    {
     "data": {
      "text/plain": [
       "dict_keys(['name', 'age', 'clas', 'sec'])"
      ]
     },
     "execution_count": 15,
     "metadata": {},
     "output_type": "execute_result"
    }
   ],
   "source": [
    "dict.keys()"
   ]
  },
  {
   "cell_type": "code",
   "execution_count": 16,
   "id": "35430c54-d32e-4997-abfe-bfe165a25c0e",
   "metadata": {},
   "outputs": [
    {
     "data": {
      "text/plain": [
       "dict_values(['ram', 12, 10, 'b sec'])"
      ]
     },
     "execution_count": 16,
     "metadata": {},
     "output_type": "execute_result"
    }
   ],
   "source": [
    "dict.values()"
   ]
  },
  {
   "cell_type": "code",
   "execution_count": 17,
   "id": "69b41d12-f5ac-45bc-b0a2-6dc6f4a88821",
   "metadata": {},
   "outputs": [
    {
     "data": {
      "text/plain": [
       "dict_items([('name', 'ram'), ('age', 12), ('clas', 10), ('sec', 'b sec')])"
      ]
     },
     "execution_count": 17,
     "metadata": {},
     "output_type": "execute_result"
    }
   ],
   "source": [
    "dict.items()"
   ]
  },
  {
   "cell_type": "code",
   "execution_count": 18,
   "id": "3769d760-211a-4d7d-972f-3a0040051578",
   "metadata": {},
   "outputs": [
    {
     "data": {
      "text/plain": [
       "{'name': 'ram', 'age': 12, 'clas': 10}"
      ]
     },
     "execution_count": 18,
     "metadata": {},
     "output_type": "execute_result"
    }
   ],
   "source": [
    "dict.pop(\"sec\")\n",
    "dict"
   ]
  },
  {
   "cell_type": "code",
   "execution_count": 19,
   "id": "179a3780-3bce-494d-a44e-a9e21af58fd1",
   "metadata": {},
   "outputs": [
    {
     "data": {
      "text/plain": [
       "{'name': 'ram', 'age': 12}"
      ]
     },
     "execution_count": 19,
     "metadata": {},
     "output_type": "execute_result"
    }
   ],
   "source": [
    "dict.popitem()\n",
    "dict"
   ]
  },
  {
   "cell_type": "code",
   "execution_count": 21,
   "id": "2e8fb848-a572-4d17-a5fe-129863ba3a87",
   "metadata": {},
   "outputs": [
    {
     "data": {
      "text/plain": [
       "'ram'"
      ]
     },
     "execution_count": 21,
     "metadata": {},
     "output_type": "execute_result"
    }
   ],
   "source": [
    "dict.get(\"name\")"
   ]
  },
  {
   "cell_type": "code",
   "execution_count": 24,
   "id": "2284891b-b986-4fee-aaba-7c5bf77fbdff",
   "metadata": {},
   "outputs": [
    {
     "data": {
      "text/plain": [
       "{'name': 'ram', 'age': 12, 'grade': 'a', 'city': 'Vijayavada'}"
      ]
     },
     "execution_count": 24,
     "metadata": {},
     "output_type": "execute_result"
    }
   ],
   "source": [
    "dic_update={\"grade\":\"a\",\"city\":\"Vijayavada\"}\n",
    "dict.update(dic_update)\n",
    "dict"
   ]
  },
  {
   "cell_type": "code",
   "execution_count": 25,
   "id": "0b4c57d5-edd9-4ba2-8ed8-5b21dcfb5da6",
   "metadata": {},
   "outputs": [
    {
     "data": {
      "text/plain": [
       "{'name': 'ram', 'age': 12, 'grade': 'a', 'city': 'Vijayavada'}"
      ]
     },
     "execution_count": 25,
     "metadata": {},
     "output_type": "execute_result"
    }
   ],
   "source": [
    "dict"
   ]
  },
  {
   "cell_type": "code",
   "execution_count": 30,
   "id": "e19ecf37-bfcd-4e3d-97a8-b33fcc4b931c",
   "metadata": {},
   "outputs": [
    {
     "name": "stdout",
     "output_type": "stream",
     "text": [
      "12\n",
      "{'name': 'ram', 'age': 12, 'grade': 'a', 'city': 'Vijayavada'}\n"
     ]
    }
   ],
   "source": [
    "# Use setdefault to get the value for an existing key\n",
    "age = dict.setdefault('age', 18)\n",
    "print(age)  \n",
    "print(dict)  "
   ]
  },
  {
   "cell_type": "code",
   "execution_count": null,
   "id": "79abcfd4-d9bf-4022-815f-ac4f05199ace",
   "metadata": {},
   "outputs": [],
   "source": []
  },
  {
   "cell_type": "code",
   "execution_count": null,
   "id": "b2d38518-582f-4aa1-943e-33cc0ccaafe7",
   "metadata": {},
   "outputs": [],
   "source": []
  }
 ],
 "metadata": {
  "kernelspec": {
   "display_name": "Python 3 (ipykernel)",
   "language": "python",
   "name": "python3"
  },
  "language_info": {
   "codemirror_mode": {
    "name": "ipython",
    "version": 3
   },
   "file_extension": ".py",
   "mimetype": "text/x-python",
   "name": "python",
   "nbconvert_exporter": "python",
   "pygments_lexer": "ipython3",
   "version": "3.12.0"
  }
 },
 "nbformat": 4,
 "nbformat_minor": 5
}
